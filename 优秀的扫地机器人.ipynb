{
 "cells": [
  {
   "cell_type": "markdown",
   "metadata": {},
   "source": [
    "假设有一款不会反复清扫同一个地方的机器人，它只能前后左右移动。\n",
    "#### 求这个机器人移动12次时，有多少种路径？\n",
    "\n",
    "比如说连动3次，会有9种情况，又因为第一次移动可以是前后左右4种，所以移动3次时全部路径有9x4=36种情况"
   ]
  },
  {
   "cell_type": "code",
   "execution_count": 49,
   "metadata": {},
   "outputs": [
    {
     "name": "stdout",
     "output_type": "stream",
     "text": [
      "324932\n"
     ]
    }
   ],
   "source": [
    "N = 12\n",
    "total = 0\n",
    "log = [[0, 0]]\n",
    "# 假设起点是[0,0]\n",
    "def move(log):\n",
    "    global total\n",
    "    if len(log) > N:\n",
    "        total += 1\n",
    "    else:\n",
    "        # 四种移动方式\n",
    "        for i in [[-1,0],[1,0],[0,1],[0,-1]]:\n",
    "            # 取log里最后的作为为当前坐标，然后进行移动\n",
    "            new_pos = [log[-1][0]+i[0], log[-1][1]+i[1]]\n",
    "            # 不去已经去过的坐标点\n",
    "            if new_pos not in log:\n",
    "                new_log = log.copy()\n",
    "                new_log.append(new_pos)\n",
    "                move(new_log)\n",
    "move(log)\n",
    "print(total)"
   ]
  }
 ],
 "metadata": {
  "kernelspec": {
   "display_name": "Python 3",
   "language": "python",
   "name": "python3"
  },
  "language_info": {
   "codemirror_mode": {
    "name": "ipython",
    "version": 3
   },
   "file_extension": ".py",
   "mimetype": "text/x-python",
   "name": "python",
   "nbconvert_exporter": "python",
   "pygments_lexer": "ipython3",
   "version": "3.6.4"
  }
 },
 "nbformat": 4,
 "nbformat_minor": 2
}
