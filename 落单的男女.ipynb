{
 "cells": [
  {
   "cell_type": "markdown",
   "metadata": {},
   "source": [
    "人们聚集在某个活动会场上，根据到达会场的顺序排成一排等待入场。假设你是活动的主办人员，想把人们从队列的某个位置分成两组。\n",
    "\n",
    "你想要让分开的两组里每一组的男女人数都均等，但如果到场顺序不对，可能出现无论怎么分，两组都不能均等的情况。\n",
    "\n",
    "举个例子，有3位男性，3位女性以“男男女男女女”的顺序到场，无论从队列的哪个位置分开，两组的男女人数都不均等。但如果到场顺序位“男男女女男女”，那么只需要在第4个人处分组就可以令分开的两组男女人数均等了。\n",
    "\n",
    "### 问题\n",
    "求男性10人，女性10人的情况下，有多少种到场顺序会导致无论怎么分组都无法实现两组男女人数均等？\n",
    "\n",
    "#### 提示\n",
    "可以把男性和女性顺序排列，排除男女人数均等的情况。"
   ]
  },
  {
   "cell_type": "code",
   "execution_count": 9,
   "metadata": {},
   "outputs": [
    {
     "name": "stdout",
     "output_type": "stream",
     "text": [
      "[0, 2, 4, 6, 8, 10, 12, 14, 16, 18]\n",
      "[1, 3, 5, 7, 9, 11, 13, 15, 17, 19]\n",
      "184756\n",
      "9724\n"
     ]
    }
   ],
   "source": [
    "# 本算法是另外一种对题目的理解，和原题无关\n",
    "import itertools\n",
    "def get_mod_count(a, m):\n",
    "    r = 0\n",
    "    for i in a:\n",
    "        if i%2 == m:\n",
    "            r+=1\n",
    "    return r\n",
    "\n",
    "# get split combination of l by delimitor m\n",
    "def kkk(l,m):\n",
    "    r = []\n",
    "    t = []\n",
    "    for i in l:\n",
    "        t.append(i)\n",
    "        if i in m:\n",
    "            r.append(t.copy())\n",
    "            t = []\n",
    "    if len(t) > 0:\n",
    "        r.append(t.copy())\n",
    "    return r \n",
    "\n",
    "men_num = 10\n",
    "women_num = 10\n",
    "men_list = list(range(0,(men_num+1)*2,2)) # 补充一个虚拟位置，这些编号前为插队位\n",
    "women_list = list(range(1,(women_num)*2,2)) # 编号前为切割位\n",
    "print(men_list[:-1])\n",
    "print(women_list)\n",
    "# print(list(itertools.combinations(men_list, 2)))\n",
    "total = []\n",
    "for i in range(1, len(men_list)+1):\n",
    "# for i in [2]:\n",
    "    for j in itertools.combinations(men_list, i):\n",
    "        # print(\"haha\")\n",
    "        # print(j)\n",
    "\n",
    "        for mm in itertools.combinations(women_list[:-1], i-1):\n",
    "            one = []\n",
    "            combo = kkk(women_list, mm)\n",
    "            # print(\"combo :\")\n",
    "            # print(combo)\n",
    "            for k in men_list:\n",
    "                if k in j:\n",
    "                    # print(\"find {}\".format(k))\n",
    "                    one += combo.pop(0)\n",
    "                if k != men_list[-1]:\n",
    "                    one.append(k)\n",
    "            total.append(one)    \n",
    "count = 0\n",
    "for i in total:\n",
    "    flag = False\n",
    "    for j in range(2, len(i), 2):\n",
    "        if get_mod_count(i[j:], 0) == get_mod_count(i[j:], 1) and get_mod_count(i[:j], 0) == get_mod_count(i[:j], 1):\n",
    "            flag = True\n",
    "            # print(i)\n",
    "            # print(i[j:])\n",
    "            break\n",
    "    if not flag:\n",
    "        count += 1\n",
    "print(len(total))\n",
    "print(count)"
   ]
  }
 ],
 "metadata": {
  "kernelspec": {
   "display_name": "Python 3",
   "language": "python",
   "name": "python3"
  },
  "language_info": {
   "codemirror_mode": {
    "name": "ipython",
    "version": 3
   },
   "file_extension": ".py",
   "mimetype": "text/x-python",
   "name": "python",
   "nbconvert_exporter": "python",
   "pygments_lexer": "ipython3",
   "version": "3.6.4"
  }
 },
 "nbformat": 4,
 "nbformat_minor": 2
}
