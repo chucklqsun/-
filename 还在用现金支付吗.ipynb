{
 "cells": [
  {
   "cell_type": "markdown",
   "metadata": {},
   "source": [
    "设计一个零钱兑换机，将N元纸币兑换成10元，50元，100元，500元硬币，只允许机器最多兑换出15枚硬币组合数量。\n",
    "### 求当N为1000时候的组合数量\n",
    "\n",
    "求分解组合数的时候，不断进行分解，最后把所有分解组合的总数相加就可以求得结果。  \n",
    "一开始用500分解: 0个,1个,2个,然后再用100分解下去，再用50分解下去..."
   ]
  },
  {
   "cell_type": "code",
   "execution_count": 39,
   "metadata": {},
   "outputs": [
    {
     "name": "stdout",
     "output_type": "stream",
     "text": [
      "20\n"
     ]
    }
   ],
   "source": [
    "def change(target, coins, limit):\n",
    "    global cnt\n",
    "    coin = coins.pop()\n",
    "    \n",
    "    # 终止条件，无法再进行分解了（没有未使用的面额）\n",
    "    if len(coins) == 0:\n",
    "        if int(target/coin) <= limit:\n",
    "            cnt += 1\n",
    "    else:\n",
    "        for i in range(0, int(target/coin)+1):\n",
    "            # 分解剩余的钱，剩余的货币面额，剩余的允许兑换次数\n",
    "            change(target - coin*i, coins.copy(), limit-i)\n",
    "    return\n",
    "\n",
    "cnt = 0\n",
    "change(1000, [10,50,100,500], 15)\n",
    "print(cnt)"
   ]
  },
  {
   "cell_type": "markdown",
   "metadata": {},
   "source": [
    "本题也可以用循环来做。"
   ]
  }
 ],
 "metadata": {
  "kernelspec": {
   "display_name": "Python 3",
   "language": "python",
   "name": "python3"
  },
  "language_info": {
   "codemirror_mode": {
    "name": "ipython",
    "version": 3
   },
   "file_extension": ".py",
   "mimetype": "text/x-python",
   "name": "python",
   "nbconvert_exporter": "python",
   "pygments_lexer": "ipython3",
   "version": "3.6.4"
  }
 },
 "nbformat": 4,
 "nbformat_minor": 2
}
