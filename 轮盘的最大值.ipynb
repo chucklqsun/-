{
 "cells": [
  {
   "cell_type": "markdown",
   "metadata": {},
   "source": [
    "轮盘游戏被称为“赌场女王”。流传较广的轮盘数字排布和设计有“欧式规则”和“美式规则”两种。下面我们要找出在这些规则下，“连续n个数字的和“最大的位置。\n",
    "\n",
    "* 欧式规则:\n",
    "  0,32,15,19,4,21,2,25,17,34,6,27,13,36,11,30,8,23,10,5,24,16,33,1,20,14,31,9,22,18,29,7,28,12,35,3,26\n",
    "\n",
    "* 美式规则:\n",
    "  0,28,9,26,30,11,7,20,32,17,5,22,34,15,3,24,36,13,1,00,27,10,25,29,12,8,19,31,18,6,21,33,16,4,23,35,14,2\n",
    "  \n",
    "### 当2<=n<=36时，求连续n个数之和最大的情况，并找出满足条件“欧式规则下的和小于美式规则下的和”的n的个数。"
   ]
  },
  {
   "cell_type": "code",
   "execution_count": 29,
   "metadata": {},
   "outputs": [
    {
     "name": "stdout",
     "output_type": "stream",
     "text": [
      "0. N:2, EU:51, US:60\n",
      "1. N:4, EU:90, US:93\n",
      "2. N:6, EU:133, US:134\n",
      "3. N:10, EU:207, US:208\n",
      "4. N:12, EU:240, US:241\n",
      "5. N:14, EU:276, US:282\n",
      "6. N:16, EU:318, US:319\n",
      "7. N:17, EU:328, US:332\n",
      "8. N:35, EU:651, US:652\n",
      "9\n"
     ]
    }
   ],
   "source": [
    "eu_list = [0,32,15,19,4,21,2,25,17,34,6,27,13,36,11,30,8,23,10,5,24,16,33,1,20,14,31,9,22,18,29,7,28,12,35,3,26]\n",
    "us_list = [0,28,9,26,30,11,7,20,32,17,5,22,34,15,3,24,36,13,1,00,27,10,25,29,12,8,19,31,18,6,21,33,16,4,23,35,14,2]\n",
    "\n",
    "count_eu_lt_us = 0\n",
    "\n",
    "def cal_max_for_n(input_list, cur_n):\n",
    "    roll_list = input_list.copy()\n",
    "    # 复制成 0,1,2,3...34,35,36,0,1,2,3...34,35,36 形成伪循环轮盘数组，这样就不用在后续步骤里补数了\n",
    "    roll_list += roll_list\n",
    "    roll_max = 0\n",
    "    roll_sum = sum(roll_list[:cur_n])\n",
    "    i = 1\n",
    "    # 起点循环一圈就全部都测完了\n",
    "    while i < len(input_list):\n",
    "        # 不用每次都加上所有的n个数字，可以减去前一个，加上后一个来提高效率\n",
    "        roll_sum = roll_sum - roll_list[i-1] + roll_list[i+cur_n-1]\n",
    "        if roll_sum > roll_max:\n",
    "            roll_max = roll_sum\n",
    "        i += 1\n",
    "    return roll_max\n",
    "\n",
    "for n in range(2,37):\n",
    "    eu_max = cal_max_for_n(eu_list, n)\n",
    "    us_max = cal_max_for_n(us_list, n)\n",
    "    cur_max = 0\n",
    "    if eu_max < us_max:\n",
    "        print(\"{}. N:{}, EU:{}, US:{}\".format(count_eu_lt_us, n, eu_max, us_max))\n",
    "        count_eu_lt_us += 1\n",
    "\n",
    "print(count_eu_lt_us)"
   ]
  },
  {
   "cell_type": "code",
   "execution_count": 28,
   "metadata": {},
   "outputs": [
    {
     "name": "stdout",
     "output_type": "stream",
     "text": [
      "0. N:2, EU:51, US:60\n",
      "1. N:4, EU:90, US:93\n",
      "2. N:6, EU:133, US:134\n",
      "3. N:10, EU:207, US:208\n",
      "4. N:12, EU:240, US:241\n",
      "5. N:14, EU:276, US:282\n",
      "6. N:16, EU:318, US:319\n",
      "7. N:17, EU:328, US:332\n",
      "8. N:35, EU:651, US:652\n",
      "9\n"
     ]
    }
   ],
   "source": [
    "# 别人网上的解法:\n",
    "def max_sum(round_list, n):\n",
    "    tmp_list = round_list.copy()\n",
    "    s = sum(tmp_list[:n])\n",
    "    last = str(tmp_list[:n])\n",
    "    for i in range(n,len(tmp_list)+n):\n",
    "        if i > len(tmp_list)-1: # 如果i超过原数组的长度，就要添加元素\n",
    "            tmp_list.append(tmp_list[i-len(round_list)]) \n",
    "        tmp = sum(tmp_list[i-n:i])\n",
    "        if tmp > s:\n",
    "            s = tmp\n",
    "            last = str(tmp_list[i-n:i])\n",
    "#     print(last)\n",
    "    return s\n",
    "\n",
    "European = [0,32,15,19,4,21,2,25,17,34,6,27,13,36,11,30,8,23,10,5,24,16,33,1,20,14,31,9,22,18,29,7,28,12,35,3,26]\n",
    "American = [0,28,9,26,30,11,7,20,32,17,5,22,34,15,3,24,36,13,1,00,27,10,25,29,12,8,19,31,18,6,21,33,16,4,23,35,14,2]\n",
    "count = 0\n",
    "for n in range(2,37):\n",
    "    if max_sum(European, n) < max_sum(American, n):\n",
    "        print(\"{}. N:{}, EU:{}, US:{}\".format(count, n, max_sum(European, n), max_sum(American, n)))\n",
    "        count = count + 1\n",
    "print(count)"
   ]
  },
  {
   "cell_type": "code",
   "execution_count": null,
   "metadata": {},
   "outputs": [],
   "source": []
  }
 ],
 "metadata": {
  "kernelspec": {
   "display_name": "Python 3",
   "language": "python",
   "name": "python3"
  },
  "language_info": {
   "codemirror_mode": {
    "name": "ipython",
    "version": 3
   },
   "file_extension": ".py",
   "mimetype": "text/x-python",
   "name": "python",
   "nbconvert_exporter": "python",
   "pygments_lexer": "ipython3",
   "version": "3.6.4"
  }
 },
 "nbformat": 4,
 "nbformat_minor": 2
}
