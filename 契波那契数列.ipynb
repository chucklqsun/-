{
 "cells": [
  {
   "cell_type": "markdown",
   "metadata": {
    "collapsed": true
   },
   "source": [
    "斐波拉契数列就是起始两个1，后续数是前两个数加起来:\n",
    "```\n",
    "1,1,2,3,5,8,13,21,34...\n",
    "```\n",
    "### 求前N个斐波拉契数能整除自己各个位数之和的数\n",
    "比如说:  \n",
    "1/1  \n",
    "2/2  \n",
    "...  \n",
    "13/4  (1+3) = 4  \n",
    "21/3  (2+1) = 3  \n",
    "34/7  (3+4) = 7  "
   ]
  },
  {
   "cell_type": "code",
   "execution_count": null,
   "metadata": {},
   "outputs": [
    {
     "name": "stdout",
     "output_type": "stream",
     "text": [
      "2/2\n3/3\n5/5\n8/8\n21/3\n144/9\n2584/19\n14930352/27\n86267571272/53\n498454011879264/72\n160500643816367088/72\n"
     ]
    }
   ],
   "source": [
    "count = 0\n",
    "\n",
    "\n",
    "def sum_digit(v):\n",
    "    s = 0\n",
    "    while v > 9:\n",
    "        s += v % 10\n",
    "        v = int(v / 10)\n",
    "    s += v\n",
    "    return s\n",
    "        \n",
    "        \n",
    "def fibo(a, b):\n",
    "    global count\n",
    "    c = a + b\n",
    "    sum_c = sum_digit(c)\n",
    "    if c % sum_c == 0:\n",
    "        print(\"{}\".format(c))\n",
    "        count += 1  \n",
    "\n",
    "    if count < 11:\n",
    "        fibo(b, c)\n",
    "    \n",
    "    \n",
    "fibo(1, 1)\n"
   ]
  },
  {
   "cell_type": "code",
   "execution_count": null,
   "metadata": {},
   "outputs": [],
   "source": []
  }
 ],
 "metadata": {
  "kernelspec": {
   "display_name": "Python 2",
   "language": "python",
   "name": "python2"
  },
  "language_info": {
   "codemirror_mode": {
    "name": "ipython",
    "version": 2
   },
   "file_extension": ".py",
   "mimetype": "text/x-python",
   "name": "python",
   "nbconvert_exporter": "python",
   "pygments_lexer": "ipython2",
   "version": "2.7.6"
  }
 },
 "nbformat": 4,
 "nbformat_minor": 0
}
