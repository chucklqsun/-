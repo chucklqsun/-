{
 "cells": [
  {
   "cell_type": "markdown",
   "metadata": {},
   "source": [
    "假设要把长度为n厘米的木棒切分为1厘米长的小段，但是1根木棒只能由1人切分，当木棒被切分为3段后，可以同时由3个人分别切分木棒。\n",
    "### 求最多由m个人时，最少要切分几次。譬如n=8，m=3时，切分4次就可以了。\n",
    "### 求当n=20，m=3时的最小切分次数。\n",
    "### 求当n=100，m=5时的最小切分次数。\n",
    "\n",
    "想这样的问题，用递归时最好描述了。当然本题也可以不用递归的方法，纯while来实现。"
   ]
  },
  {
   "cell_type": "code",
   "execution_count": 4,
   "metadata": {},
   "outputs": [
    {
     "name": "stdout",
     "output_type": "stream",
     "text": [
      "4\n",
      "8\n",
      "22\n"
     ]
    }
   ],
   "source": [
    "def cut(cur_n, m, n):\n",
    "    # 终止条件：切割数等于长度\n",
    "    if cur_n >= n:\n",
    "        return 0\n",
    "    if cur_n < m:  # 段数比人少，段数翻倍\n",
    "        return 1+cut(cur_n*2, m, n)\n",
    "    else:  # 段数多，人少，按照人数增加段数\n",
    "        return 1+cut(cur_n+m, m, n)\n",
    "\n",
    "print(cut(1, 3, 8))\n",
    "print(cut(1, 3, 20))\n",
    "print(cut(1, 5, 100))"
   ]
  },
  {
   "cell_type": "code",
   "execution_count": null,
   "metadata": {},
   "outputs": [],
   "source": []
  }
 ],
 "metadata": {
  "kernelspec": {
   "display_name": "Python 3",
   "language": "python",
   "name": "python3"
  },
  "language_info": {
   "codemirror_mode": {
    "name": "ipython",
    "version": 3
   },
   "file_extension": ".py",
   "mimetype": "text/x-python",
   "name": "python",
   "nbconvert_exporter": "python",
   "pygments_lexer": "ipython3",
   "version": "3.6.4"
  }
 },
 "nbformat": 4,
 "nbformat_minor": 2
}
