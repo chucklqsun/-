{
 "cells": [
  {
   "cell_type": "markdown",
   "metadata": {},
   "source": [
    "把年月日表示为YYYYMMDD这样的八位整数，转换成二进制并且逆序排列，再把得到的二进制数转换成十进制数，求与原日期一致的日期。\n",
    "### 求得的日期要在上一次东京奥运会（1964年10月10日）到下一次东京奥运会（预计2020你那7月24日）之间。\n",
    "\n",
    "提示:  \n",
    "\n",
    "    19641010 -> 1001010111011001010110010\n",
    "    \n",
    "    20200724 -> 1001101000011110100010100\n",
    "\n",
    "观察可以得到，前四位是1001，可以推测出所求数字的二进制是1001xxxxxxxxYzzzzzzzz1001，其中Y是0/1,x...和z...是对称的。"
   ]
  },
  {
   "cell_type": "code",
   "execution_count": 3,
   "metadata": {},
   "outputs": [
    {
     "name": "stdout",
     "output_type": "stream",
     "text": [
      "19660713\n",
      "19660905\n",
      "19770217\n",
      "19950617\n",
      "20020505\n",
      "20130201\n"
     ]
    }
   ],
   "source": [
    "import datetime\n",
    "for i in range(int('1011101',2), int('10100010',2)):\n",
    "    left = str(bin(i))[2:]\n",
    "    # 用“0”补齐到左边八位\n",
    "    left  = \"0\"*(8 - len(left)) + left\n",
    "    right = left[::-1]\n",
    "    for j in ['0', '1']:\n",
    "        year = int('1001' + left + j + right + '1001', 2)\n",
    "        if year >= 19641010 and year <= 20200724:\n",
    "            try:\n",
    "                # 检查是否是合法的日期\n",
    "                datetime.datetime.strptime(str(year), '%Y%m%d')\n",
    "                print(year)\n",
    "            except ValueError:\n",
    "                pass # ValueError(\"Incorrect data\")"
   ]
  },
  {
   "cell_type": "code",
   "execution_count": null,
   "metadata": {},
   "outputs": [],
   "source": []
  }
 ],
 "metadata": {
  "kernelspec": {
   "display_name": "Python 3",
   "language": "python",
   "name": "python3"
  },
  "language_info": {
   "codemirror_mode": {
    "name": "ipython",
    "version": 3
   },
   "file_extension": ".py",
   "mimetype": "text/x-python",
   "name": "python",
   "nbconvert_exporter": "python",
   "pygments_lexer": "ipython3",
   "version": "3.6.4"
  }
 },
 "nbformat": 4,
 "nbformat_minor": 2
}
