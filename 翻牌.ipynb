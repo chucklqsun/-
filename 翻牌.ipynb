{
 "cells": [
  {
   "cell_type": "markdown",
   "metadata": {},
   "source": [
    "有100张写着数字1～100的牌，按顺序排列着，最开始所有牌都是背面朝上，某人从第二张牌开始，隔一张牌翻牌。然后第2，4，6，...，100张牌就变成正面朝上了。\n",
    "接下来，另一个人从第三张牌开始，隔2张牌翻牌（原本正面翻转成反面，原本反面翻转成正面），接下来又有一个人从第四张牌开始，隔3张牌翻牌。\n",
    "像这样，从第n张牌开始，每隔n-1张牌翻牌，知道没有可翻动的牌为止。\n",
    "### 求当所有牌都不再变动时，所有背面朝上的牌的数字"
   ]
  },
  {
   "cell_type": "code",
   "execution_count": 11,
   "metadata": {},
   "outputs": [
    {
     "name": "stdout",
     "output_type": "stream",
     "text": [
      "[1, 4, 9, 16, 25, 36, 49, 64, 81, 100]\n"
     ]
    }
   ],
   "source": [
    "num = 100 # 总共100张牌\n",
    "card = [False for i in range(0,num)] # 正面为True，反面为False，方便输出结果 \n",
    "i = 1 # 第一个人开始第2张摸牌位置(第二张牌的数组下标是1)\n",
    "\n",
    "while i < num: # 任何人翻的第一张牌不能超过总数\n",
    "    for j in range(i,num,i+1):\n",
    "        card[j] = not card[j] # 翻转\n",
    "    i += 1\n",
    "    \n",
    "print([x+1 for x in range(0, num) if not card[x]])"
   ]
  },
  {
   "cell_type": "markdown",
   "metadata": {},
   "source": [
    "### 思考\n",
    "1. 如果一张牌被翻转的次数是*偶数*，那这张牌保持背面朝上，也就是所要求的数字。\n",
    "2. 一张牌只会给它的约数间隔翻牌（除了1），比如说9的约数是1，9，3，那么它就会被3或9的倍数翻到(比如说第二个人：3,6,9...和第八个人：9,18...)，所以当一个数的约数是奇数个（因为要抛去1）时，就是所要求的数\n",
    "3. 完全平方数M可以表示为 M = N\\*N，对于大于N的因子，都有小于N的因子与其对应，所以M的因数个数为2k+1是奇数（多出来的1就是N这个数）"
   ]
  },
  {
   "cell_type": "markdown",
   "metadata": {},
   "source": []
  }
 ],
 "metadata": {
  "kernelspec": {
   "display_name": "Python 3",
   "language": "python",
   "name": "python3"
  },
  "language_info": {
   "codemirror_mode": {
    "name": "ipython",
    "version": 3
   },
   "file_extension": ".py",
   "mimetype": "text/x-python",
   "name": "python",
   "nbconvert_exporter": "python",
   "pygments_lexer": "ipython3",
   "version": "3.6.4"
  }
 },
 "nbformat": 4,
 "nbformat_minor": 2
}
