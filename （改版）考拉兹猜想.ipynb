{
 "cells": [
  {
   "cell_type": "markdown",
   "metadata": {},
   "source": [
    "#### 考拉兹猜想：  \n",
    "对自然数n循环执行如下操作。\n",
    "1. n是偶数，用n除以2\n",
    "2. n是奇数，用n乘以3后加1\n",
    "如此循环擦欧总的话，无论初始值是什么数字，最终都会得到1（会进入1->4->2->1这个循环）\n",
    "#### 我们做一点修改，即假设初始值是偶数时候，也用n乘以3后加1，但是只在第一次这样操作，后面循环不变。\n",
    "### 求在在小于10000的偶数中，能通过上述操作回到初始值的数有多少。"
   ]
  },
  {
   "cell_type": "code",
   "execution_count": 8,
   "metadata": {},
   "outputs": [
    {
     "name": "stdout",
     "output_type": "stream",
     "text": [
      "34\n"
     ]
    }
   ],
   "source": [
    "cnt = 0\n",
    "for i in range(0,10000,2):\n",
    "    k = i\n",
    "    # 第一次操作\n",
    "    k = k * 3 + 1\n",
    "    # 进入1后就开始1->4->2->1的循环了，终止循环\n",
    "    while k != 1:\n",
    "        if k == i:\n",
    "            cnt += 1\n",
    "            break             # 找到后，跳出循环\n",
    "        if k % 2 == 0:        # 偶数\n",
    "            k /= 2\n",
    "        else:\n",
    "            k = k * 3 + 1     # 奇数\n",
    "\n",
    "print(cnt)"
   ]
  }
 ],
 "metadata": {
  "kernelspec": {
   "display_name": "Python 3",
   "language": "python",
   "name": "python3"
  },
  "language_info": {
   "codemirror_mode": {
    "name": "ipython",
    "version": 3
   },
   "file_extension": ".py",
   "mimetype": "text/x-python",
   "name": "python",
   "nbconvert_exporter": "python",
   "pygments_lexer": "ipython3",
   "version": "3.6.4"
  }
 },
 "nbformat": 4,
 "nbformat_minor": 2
}
