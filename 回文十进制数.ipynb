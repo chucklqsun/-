{
 "cells": [
  {
   "cell_type": "markdown",
   "metadata": {},
   "source": [
    "### 求用十进制、二进制、八进制表示都是回文数的所有数字中，大于十进制数10的最小值。"
   ]
  },
  {
   "cell_type": "markdown",
   "metadata": {},
   "source": [
    "1. 因为二进制最高位一定是1，要对称的话，最低位也一定是1，所以一定是奇数，故从11开始计算，每次步进2。\n",
    "2. 回文可以用字符串和字符串的reverse比较是否相等来验证。\n",
    "3. 这里使用语法糖str\\[::-1\\]来获得字符串reverse"
   ]
  },
  {
   "cell_type": "code",
   "execution_count": 14,
   "metadata": {},
   "outputs": [
    {
     "name": "stdout",
     "output_type": "stream",
     "text": [
      "十进制:585\n",
      "二进制:1001001001\n",
      "八进制:1111\n"
     ]
    }
   ],
   "source": [
    "num = 11\n",
    "while True:\n",
    "    decimal = str(num)\n",
    "    binary = bin(num)[2:]\n",
    "    octonary = oct(num)[2:]\n",
    "    if decimal == decimal[::-1] and binary == binary[::-1] and octonary == octonary[::-1]:\n",
    "        print(\"十进制:\" + decimal)\n",
    "        print(\"二进制:\" + binary)\n",
    "        print(\"八进制:\" + octonary)\n",
    "        break\n",
    "    else:\n",
    "        num += 2\n"
   ]
  },
  {
   "cell_type": "code",
   "execution_count": null,
   "metadata": {},
   "outputs": [],
   "source": []
  }
 ],
 "metadata": {
  "kernelspec": {
   "display_name": "Python 3",
   "language": "python",
   "name": "python3"
  },
  "language_info": {
   "codemirror_mode": {
    "name": "ipython",
    "version": 3
   },
   "file_extension": ".py",
   "mimetype": "text/x-python",
   "name": "python",
   "nbconvert_exporter": "python",
   "pygments_lexer": "ipython3",
   "version": "3.6.4"
  }
 },
 "nbformat": 4,
 "nbformat_minor": 2
}
