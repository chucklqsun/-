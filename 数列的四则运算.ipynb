{
 "cells": [
  {
   "cell_type": "markdown",
   "metadata": {},
   "source": [
    "组合的方法就是在各个数字之间插入四则运算的运算符组成算式，然后计算算式的结果。  \n",
    "比如说： 1234 -> 1+2\\*3-4=3  \n",
    "这里假设的条件为，组合算式的计算结果为“将原数字各个位数上的数逆序排列得到的数”  \n",
    "比如说在100~999之间的数有：351 -> 3\\*51 = 153    \n",
    "### 求位于1000~9999，满足上述条件的数\n"
   ]
  },
  {
   "cell_type": "code",
   "execution_count": 8,
   "metadata": {},
   "outputs": [
    {
     "name": "stdout",
     "output_type": "stream",
     "text": [
      "5931:5*9*31 = 1395\n"
     ]
    }
   ],
   "source": [
    "import re\n",
    "for i in range(1000,10000):\n",
    "    num = str(i)\n",
    "    # 一旦用了\\*以外的运算符，结果能满足的四位数有限，可以先排除。比如说 9+99*\\9 = 900, 最大也就是 9+999 = 1008\n",
    "    for op1 in [\"*\",\"\"]:\n",
    "        for op2 in [\"*\", \"\"]:\n",
    "            for op3 in [\"*\", \"\"]:\n",
    "                val = \"{}{}{}{}{}{}{}\".format(num[0], op1, num[1], op2, num[2], op3, num[3])\n",
    "                # 至少插入一个运算符\n",
    "                if len(val) > 4:\n",
    "                    # eval(\"1\\*1\\*01\")是会报错的，所以需要用正则catch的方式将运算符后的01替换成1\n",
    "                    val = re.sub(r\"(\\D)0+([1-9]+)\",\"\\\\1\\\\2\",val)\n",
    "                    if int(eval(val)) == int(num[::-1]):\n",
    "                        print(\"{}:{} = {}\".format(num, val, eval(val)))\n"
   ]
  }
 ],
 "metadata": {
  "kernelspec": {
   "display_name": "Python 3",
   "language": "python",
   "name": "python3"
  },
  "language_info": {
   "codemirror_mode": {
    "name": "ipython",
    "version": 3
   },
   "file_extension": ".py",
   "mimetype": "text/x-python",
   "name": "python",
   "nbconvert_exporter": "python",
   "pygments_lexer": "ipython3",
   "version": "3.6.4"
  }
 },
 "nbformat": 4,
 "nbformat_minor": 2
}
